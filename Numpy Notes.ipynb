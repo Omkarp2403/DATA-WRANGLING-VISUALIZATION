{
 "cells": [
  {
   "cell_type": "markdown",
   "id": "9b68a1f3",
   "metadata": {},
   "source": [
    "## Numpy Introduction"
   ]
  },
  {
   "cell_type": "code",
   "execution_count": null,
   "id": "56e929ce",
   "metadata": {},
   "outputs": [],
   "source": [
    "# its is python library for scientic computation\n",
    "# Numpy arrays are the main way to use numpy library\n",
    "# Numpy works with multi dimantionas arrays\n",
    "# it is really fastest as comapre to ordinary python list\n",
    "# it is fastes becoz it has binding with c programming language\n",
    "\n",
    "# 1-d array - vector\n",
    "# 2-d array - matrix\n",
    "# n-d array - tensor"
   ]
  },
  {
   "cell_type": "markdown",
   "id": "4d69dbd9",
   "metadata": {},
   "source": [
    "### Create Numpy Arrays"
   ]
  },
  {
   "cell_type": "code",
   "execution_count": 3,
   "id": "82732569",
   "metadata": {},
   "outputs": [],
   "source": [
    "import numpy as np"
   ]
  },
  {
   "cell_type": "code",
   "execution_count": 4,
   "id": "4f667c09",
   "metadata": {},
   "outputs": [
    {
     "name": "stdout",
     "output_type": "stream",
     "text": [
      "[1 2 3] \n",
      "\n",
      "1 \n",
      "\n",
      "(3,)\n"
     ]
    }
   ],
   "source": [
    "# 1-d Array/vector \n",
    "num =[1,2,3]\n",
    "num = np.array(num)\n",
    "print(num,\"\\n\")\n",
    "print(num.ndim,\"\\n\")     #this is show this array as 1-d array --->([)\n",
    "print(num.shape)         #this is show the shape of array row and column"
   ]
  },
  {
   "cell_type": "code",
   "execution_count": 5,
   "id": "ce639ff6",
   "metadata": {},
   "outputs": [
    {
     "name": "stdout",
     "output_type": "stream",
     "text": [
      "[[1 2 3]\n",
      " [4 5 6]] \n",
      "\n",
      "2 \n",
      "\n",
      "(2, 3)\n"
     ]
    }
   ],
   "source": [
    "# 2-d array/Matrix \n",
    "num = [[1,2,3],[4,5,6]]\n",
    "num = np.array(num)\n",
    "print(num,\"\\n\")\n",
    "print(num.ndim,\"\\n\")    #this is show this array as 2-d array --->([[)\n",
    "print(num.shape)        #this is show the shape of array row and column"
   ]
  },
  {
   "cell_type": "code",
   "execution_count": 6,
   "id": "c4ad3ff3",
   "metadata": {},
   "outputs": [
    {
     "name": "stdout",
     "output_type": "stream",
     "text": [
      "[[[ 1  2  3]\n",
      "  [ 4  5  6]]\n",
      "\n",
      " [[ 7  8  9]\n",
      "  [10 11 12]]] \n",
      "\n",
      "3 \n",
      "\n",
      "(2, 2, 3)\n"
     ]
    }
   ],
   "source": [
    "# n-d array/tensor/multidimantional array\n",
    "num = [[[1,2,3],[4,5,6]],[[7,8,9],[10,11,12]]]\n",
    "num = np.array(num)\n",
    "print(num,\"\\n\")\n",
    "print(num.ndim,\"\\n\")    #this is show this array as 3-d array --->([[[)\n",
    "print(num.shape)        #this is show the shape of array row and column"
   ]
  },
  {
   "cell_type": "code",
   "execution_count": null,
   "id": "9a91010b",
   "metadata": {},
   "outputs": [],
   "source": []
  },
  {
   "cell_type": "markdown",
   "id": "1be03e49",
   "metadata": {},
   "source": [
    "### Create Numpy Arrays Using Functions"
   ]
  },
  {
   "cell_type": "code",
   "execution_count": 7,
   "id": "06c01e3f",
   "metadata": {},
   "outputs": [],
   "source": [
    "# Zeros,Ones,eye,diag,randint,rand,randin"
   ]
  },
  {
   "cell_type": "code",
   "execution_count": 8,
   "id": "57facac5",
   "metadata": {},
   "outputs": [],
   "source": [
    "import numpy as np"
   ]
  },
  {
   "cell_type": "code",
   "execution_count": 9,
   "id": "1795de73",
   "metadata": {},
   "outputs": [
    {
     "data": {
      "text/plain": [
       "array([0., 0., 0.])"
      ]
     },
     "execution_count": 9,
     "metadata": {},
     "output_type": "execute_result"
    }
   ],
   "source": [
    "#Zeros Func as 1-d array\n",
    "arr =np.zeros(3)\n",
    "arr"
   ]
  },
  {
   "cell_type": "code",
   "execution_count": 10,
   "id": "582b37e4",
   "metadata": {},
   "outputs": [
    {
     "data": {
      "text/plain": [
       "array([[0., 0., 0., 0.],\n",
       "       [0., 0., 0., 0.]])"
      ]
     },
     "execution_count": 10,
     "metadata": {},
     "output_type": "execute_result"
    }
   ],
   "source": [
    "#Zeros Func as 2-d array\n",
    "arr = np.zeros((2,4))\n",
    "arr"
   ]
  },
  {
   "cell_type": "code",
   "execution_count": 11,
   "id": "52e93525",
   "metadata": {},
   "outputs": [
    {
     "data": {
      "text/plain": [
       "array([1., 1., 1.])"
      ]
     },
     "execution_count": 11,
     "metadata": {},
     "output_type": "execute_result"
    }
   ],
   "source": [
    "#Ones Func as 1-d array\n",
    "arr =np.ones(3)\n",
    "arr"
   ]
  },
  {
   "cell_type": "code",
   "execution_count": 12,
   "id": "9351747d",
   "metadata": {},
   "outputs": [
    {
     "data": {
      "text/plain": [
       "array([[1., 1., 1., 1.],\n",
       "       [1., 1., 1., 1.]])"
      ]
     },
     "execution_count": 12,
     "metadata": {},
     "output_type": "execute_result"
    }
   ],
   "source": [
    "#Ones Func as 2-d array\n",
    "arr =np.ones((2,4))\n",
    "arr"
   ]
  },
  {
   "cell_type": "code",
   "execution_count": 13,
   "id": "cd186d2d",
   "metadata": {},
   "outputs": [
    {
     "name": "stdout",
     "output_type": "stream",
     "text": [
      "[[1. 0. 0. 0.]\n",
      " [0. 1. 0. 0.]\n",
      " [0. 0. 1. 0.]\n",
      " [0. 0. 0. 1.]]\n"
     ]
    },
    {
     "data": {
      "text/plain": [
       "array([1., 1., 1., 1.])"
      ]
     },
     "execution_count": 13,
     "metadata": {},
     "output_type": "execute_result"
    }
   ],
   "source": [
    "#eye Func\n",
    "arr =np.eye(4) #this is create dignal only 1 and another is 0\n",
    "print(arr)\n",
    "np.diag(arr) #this is used by show the diagnal are used in matrix"
   ]
  },
  {
   "cell_type": "code",
   "execution_count": 14,
   "id": "87da8fc1",
   "metadata": {},
   "outputs": [
    {
     "name": "stdout",
     "output_type": "stream",
     "text": [
      "[[1. 0. 0. 0.]\n",
      " [0. 1. 0. 0.]\n",
      " [0. 0. 1. 0.]]\n"
     ]
    },
    {
     "data": {
      "text/plain": [
       "array([1., 1., 1.])"
      ]
     },
     "execution_count": 14,
     "metadata": {},
     "output_type": "execute_result"
    }
   ],
   "source": [
    "arr =np.eye(3,4) #this is create dignal only 1 and another is 0\n",
    "print(arr)\n",
    "np.diag(arr) #this is used by show the diagnal are used in matrix"
   ]
  },
  {
   "cell_type": "code",
   "execution_count": 15,
   "id": "288ca841",
   "metadata": {},
   "outputs": [
    {
     "name": "stdout",
     "output_type": "stream",
     "text": [
      "[[1 0 0 0]\n",
      " [0 2 0 0]\n",
      " [0 0 3 0]\n",
      " [0 0 0 4]]\n"
     ]
    },
    {
     "data": {
      "text/plain": [
       "array([1, 2, 3, 4])"
      ]
     },
     "execution_count": 15,
     "metadata": {},
     "output_type": "execute_result"
    }
   ],
   "source": [
    "#diag Func\n",
    "arr = np.diag([1,2,3,4]) #this is create Dignal as 1,2,3,4 and another is 0\n",
    "print(arr)\n",
    "np.diag(arr) #this is used by show the diagnal are used in matrix"
   ]
  },
  {
   "cell_type": "code",
   "execution_count": 16,
   "id": "9b9b3f7c",
   "metadata": {},
   "outputs": [
    {
     "data": {
      "text/plain": [
       "array([10, 14,  3,  7])"
      ]
     },
     "execution_count": 16,
     "metadata": {},
     "output_type": "execute_result"
    }
   ],
   "source": [
    "# randint Func(Random Number Creater)\n",
    "arr = np.random.randint(1,15,4) #To created random number 1 to 15 and  created 4 random numbers\n",
    "arr"
   ]
  },
  {
   "cell_type": "code",
   "execution_count": 17,
   "id": "52ad1bb5",
   "metadata": {},
   "outputs": [
    {
     "data": {
      "text/plain": [
       "array([0.05497612, 0.92651281])"
      ]
     },
     "execution_count": 17,
     "metadata": {},
     "output_type": "execute_result"
    }
   ],
   "source": [
    "#Rand Func as 1-d array\n",
    "arr = np.random.rand(2) #To created random number 0 to 1 and  created 4 random numbers\n",
    "arr"
   ]
  },
  {
   "cell_type": "code",
   "execution_count": 18,
   "id": "681387bc",
   "metadata": {},
   "outputs": [
    {
     "data": {
      "text/plain": [
       "array([[0.9921641 , 0.28162111, 0.2842115 , 0.17936736],\n",
       "       [0.87613117, 0.77348107, 0.17182843, 0.66856193]])"
      ]
     },
     "execution_count": 18,
     "metadata": {},
     "output_type": "execute_result"
    }
   ],
   "source": [
    "#Rand Func as 2-d array\n",
    "arr = np.random.rand(2,4) #To created random number 0 to 1 and  created 4 random numbers\n",
    "arr"
   ]
  },
  {
   "cell_type": "code",
   "execution_count": 19,
   "id": "1530f04c",
   "metadata": {},
   "outputs": [
    {
     "data": {
      "text/plain": [
       "array([-1.64489492,  0.43184733, -0.28402718, -0.81416113])"
      ]
     },
     "execution_count": 19,
     "metadata": {},
     "output_type": "execute_result"
    }
   ],
   "source": [
    "#Randn Func \n",
    "arr = np.random.randn(4) #To created random number 0 to 1,positive or nigative numbers and  created 4 random numbers\n",
    "arr"
   ]
  },
  {
   "cell_type": "code",
   "execution_count": 20,
   "id": "243b9a4e",
   "metadata": {},
   "outputs": [
    {
     "data": {
      "text/plain": [
       "0.2310654777047353"
      ]
     },
     "execution_count": 20,
     "metadata": {},
     "output_type": "execute_result"
    }
   ],
   "source": [
    "#Find the mean of rhis func \n",
    "arr = np.random.randn(15)\n",
    "np.mean(arr)"
   ]
  },
  {
   "cell_type": "markdown",
   "id": "b261f630",
   "metadata": {},
   "source": [
    "### Reshaping of Data"
   ]
  },
  {
   "cell_type": "code",
   "execution_count": 26,
   "id": "c582a235",
   "metadata": {},
   "outputs": [
    {
     "data": {
      "text/plain": [
       "array([[24, 33],\n",
       "       [17,  4],\n",
       "       [16,  7],\n",
       "       [ 1, 26],\n",
       "       [20,  1],\n",
       "       [21, 35],\n",
       "       [23, 45],\n",
       "       [11, 36],\n",
       "       [45, 47],\n",
       "       [22, 16]])"
      ]
     },
     "execution_count": 26,
     "metadata": {},
     "output_type": "execute_result"
    }
   ],
   "source": [
    "import numpy as np\n",
    "arre = np.random.randint(1,50,20)\n",
    "arre = arre.reshape(10,2)\n",
    "arre"
   ]
  },
  {
   "cell_type": "code",
   "execution_count": 27,
   "id": "a094dff3",
   "metadata": {},
   "outputs": [
    {
     "data": {
      "text/plain": [
       "2"
      ]
     },
     "execution_count": 27,
     "metadata": {},
     "output_type": "execute_result"
    }
   ],
   "source": [
    "arre.ndim"
   ]
  },
  {
   "cell_type": "markdown",
   "id": "f6dccdc1",
   "metadata": {},
   "source": [
    "### What is Negative 1 in reshape"
   ]
  },
  {
   "cell_type": "code",
   "execution_count": 39,
   "id": "63b1a8ef",
   "metadata": {},
   "outputs": [
    {
     "data": {
      "text/plain": [
       "array([  1,   2,   3,   4,   5,   6,   7,   8,   9,  10,  11,  12,  13,\n",
       "        14,  15,  16,  17,  18,  19,  20,  21,  22,  23,  24,  25,  26,\n",
       "        27,  28,  29,  30,  31,  32,  33,  34,  35,  36,  37,  38,  39,\n",
       "        40,  41,  42,  43,  44,  45,  46,  47,  48,  49,  50,  51,  52,\n",
       "        53,  54,  55,  56,  57,  58,  59,  60,  61,  62,  63,  64,  65,\n",
       "        66,  67,  68,  69,  70,  71,  72,  73,  74,  75,  76,  77,  78,\n",
       "        79,  80,  81,  82,  83,  84,  85,  86,  87,  88,  89,  90,  91,\n",
       "        92,  93,  94,  95,  96,  97,  98,  99, 100, 101, 102, 103, 104,\n",
       "       105, 106, 107, 108, 109, 110])"
      ]
     },
     "execution_count": 39,
     "metadata": {},
     "output_type": "execute_result"
    }
   ],
   "source": [
    "arr = np.arange(1,111)\n",
    "arr"
   ]
  },
  {
   "cell_type": "code",
   "execution_count": 41,
   "id": "e03ba5db",
   "metadata": {},
   "outputs": [
    {
     "data": {
      "text/plain": [
       "array([[  1,   2,   3,   4,   5],\n",
       "       [  6,   7,   8,   9,  10],\n",
       "       [ 11,  12,  13,  14,  15],\n",
       "       [ 16,  17,  18,  19,  20],\n",
       "       [ 21,  22,  23,  24,  25],\n",
       "       [ 26,  27,  28,  29,  30],\n",
       "       [ 31,  32,  33,  34,  35],\n",
       "       [ 36,  37,  38,  39,  40],\n",
       "       [ 41,  42,  43,  44,  45],\n",
       "       [ 46,  47,  48,  49,  50],\n",
       "       [ 51,  52,  53,  54,  55],\n",
       "       [ 56,  57,  58,  59,  60],\n",
       "       [ 61,  62,  63,  64,  65],\n",
       "       [ 66,  67,  68,  69,  70],\n",
       "       [ 71,  72,  73,  74,  75],\n",
       "       [ 76,  77,  78,  79,  80],\n",
       "       [ 81,  82,  83,  84,  85],\n",
       "       [ 86,  87,  88,  89,  90],\n",
       "       [ 91,  92,  93,  94,  95],\n",
       "       [ 96,  97,  98,  99, 100],\n",
       "       [101, 102, 103, 104, 105],\n",
       "       [106, 107, 108, 109, 110]])"
      ]
     },
     "execution_count": 41,
     "metadata": {},
     "output_type": "execute_result"
    }
   ],
   "source": [
    "arr.reshape(22,-1)  # -1 is assume numpy this number multiplication of 111"
   ]
  },
  {
   "cell_type": "markdown",
   "id": "78cd0d38",
   "metadata": {},
   "source": [
    "### Generate Same Random Number Every time "
   ]
  },
  {
   "cell_type": "code",
   "execution_count": 47,
   "id": "9400b20b",
   "metadata": {},
   "outputs": [
    {
     "data": {
      "text/plain": [
       "array([14,  3,  3,  7, 18, 11,  2,  1, 18, 16])"
      ]
     },
     "execution_count": 47,
     "metadata": {},
     "output_type": "execute_result"
    }
   ],
   "source": [
    "np.random.seed(123)\n",
    "arr = np.random.randint(1,20,10)\n",
    "arr"
   ]
  },
  {
   "cell_type": "code",
   "execution_count": 48,
   "id": "a488f176",
   "metadata": {},
   "outputs": [
    {
     "data": {
      "text/plain": [
       "10"
      ]
     },
     "execution_count": 48,
     "metadata": {},
     "output_type": "execute_result"
    }
   ],
   "source": [
    "arr.size"
   ]
  },
  {
   "cell_type": "markdown",
   "id": "4fc90855",
   "metadata": {},
   "source": [
    "### Indexing and Slicing 1-d array"
   ]
  },
  {
   "cell_type": "code",
   "execution_count": 49,
   "id": "ab368b2c",
   "metadata": {},
   "outputs": [
    {
     "data": {
      "text/plain": [
       "array([ 1, 10, 20,  4,  5])"
      ]
     },
     "execution_count": 49,
     "metadata": {},
     "output_type": "execute_result"
    }
   ],
   "source": [
    "import numpy as np\n",
    "arr = np.array([1,10,20,4,5])\n",
    "arr"
   ]
  },
  {
   "cell_type": "code",
   "execution_count": 50,
   "id": "6d0b2cdd",
   "metadata": {},
   "outputs": [
    {
     "data": {
      "text/plain": [
       "20"
      ]
     },
     "execution_count": 50,
     "metadata": {},
     "output_type": "execute_result"
    }
   ],
   "source": [
    "#indexing\n",
    "arr[2]"
   ]
  },
  {
   "cell_type": "code",
   "execution_count": 51,
   "id": "4ec95c24",
   "metadata": {},
   "outputs": [
    {
     "data": {
      "text/plain": [
       "array([ 1, 10, 20])"
      ]
     },
     "execution_count": 51,
     "metadata": {},
     "output_type": "execute_result"
    }
   ],
   "source": [
    "#Slicing\n",
    "arr[0:3]"
   ]
  },
  {
   "cell_type": "code",
   "execution_count": 52,
   "id": "bc1ab5e7",
   "metadata": {},
   "outputs": [
    {
     "data": {
      "text/plain": [
       "array([ 1, 10])"
      ]
     },
     "execution_count": 52,
     "metadata": {},
     "output_type": "execute_result"
    }
   ],
   "source": [
    "arr[0:-3]"
   ]
  },
  {
   "cell_type": "code",
   "execution_count": 53,
   "id": "0c09a6e2",
   "metadata": {},
   "outputs": [
    {
     "data": {
      "text/plain": [
       "array([1])"
      ]
     },
     "execution_count": 53,
     "metadata": {},
     "output_type": "execute_result"
    }
   ],
   "source": [
    "arr[0:-4:2]"
   ]
  },
  {
   "cell_type": "code",
   "execution_count": 54,
   "id": "255a4555",
   "metadata": {},
   "outputs": [
    {
     "data": {
      "text/plain": [
       "array([ 5,  4, 20, 10,  1])"
      ]
     },
     "execution_count": 54,
     "metadata": {},
     "output_type": "execute_result"
    }
   ],
   "source": [
    "arr[::-1]"
   ]
  },
  {
   "cell_type": "markdown",
   "id": "db7f16c4",
   "metadata": {},
   "source": [
    "### Indexing and Slicing 2-d array"
   ]
  },
  {
   "cell_type": "markdown",
   "id": "b051a786",
   "metadata": {},
   "source": [
    "### Create 2-d array"
   ]
  },
  {
   "cell_type": "code",
   "execution_count": 55,
   "id": "9c0a6f26",
   "metadata": {},
   "outputs": [],
   "source": [
    "import numpy as np"
   ]
  },
  {
   "cell_type": "code",
   "execution_count": 57,
   "id": "6f0e9f8a",
   "metadata": {},
   "outputs": [
    {
     "data": {
      "text/plain": [
       "array([[ 5, 10, 15],\n",
       "       [20, 25, 30],\n",
       "       [35, 40, 45]])"
      ]
     },
     "execution_count": 57,
     "metadata": {},
     "output_type": "execute_result"
    }
   ],
   "source": [
    "matrix = np.array([[5,10,15],[20,25,30],[35,40,45]])\n",
    "matrix"
   ]
  },
  {
   "cell_type": "markdown",
   "id": "4666cf23",
   "metadata": {},
   "source": [
    "### Indexing using double bracket Notation"
   ]
  },
  {
   "cell_type": "code",
   "execution_count": 58,
   "id": "040e113a",
   "metadata": {},
   "outputs": [
    {
     "data": {
      "text/plain": [
       "25"
      ]
     },
     "execution_count": 58,
     "metadata": {},
     "output_type": "execute_result"
    }
   ],
   "source": [
    "matrix[1][1]"
   ]
  },
  {
   "cell_type": "markdown",
   "id": "f2afb23e",
   "metadata": {},
   "source": [
    "### Indexing using Single bracket Notation"
   ]
  },
  {
   "cell_type": "code",
   "execution_count": 59,
   "id": "38daf07e",
   "metadata": {},
   "outputs": [
    {
     "data": {
      "text/plain": [
       "25"
      ]
     },
     "execution_count": 59,
     "metadata": {},
     "output_type": "execute_result"
    }
   ],
   "source": [
    "matrix[1,1]"
   ]
  },
  {
   "cell_type": "markdown",
   "id": "b9cd58d2",
   "metadata": {},
   "source": [
    "### Slicing using Single bracket Notation"
   ]
  },
  {
   "cell_type": "code",
   "execution_count": 60,
   "id": "2eb0d372",
   "metadata": {},
   "outputs": [
    {
     "data": {
      "text/plain": [
       "array([[ 5, 10, 15],\n",
       "       [20, 25, 30],\n",
       "       [35, 40, 45]])"
      ]
     },
     "execution_count": 60,
     "metadata": {},
     "output_type": "execute_result"
    }
   ],
   "source": [
    "matrix"
   ]
  },
  {
   "cell_type": "code",
   "execution_count": 61,
   "id": "af04a59d",
   "metadata": {},
   "outputs": [
    {
     "data": {
      "text/plain": [
       "array([[ 5, 10],\n",
       "       [20, 25]])"
      ]
     },
     "execution_count": 61,
     "metadata": {},
     "output_type": "execute_result"
    }
   ],
   "source": [
    "matrix[:2,:2]"
   ]
  },
  {
   "cell_type": "code",
   "execution_count": 64,
   "id": "cd52cdbf",
   "metadata": {},
   "outputs": [
    {
     "data": {
      "text/plain": [
       "array([[20, 25],\n",
       "       [35, 40]])"
      ]
     },
     "execution_count": 64,
     "metadata": {},
     "output_type": "execute_result"
    }
   ],
   "source": [
    "matrix[1:3,:2]"
   ]
  },
  {
   "cell_type": "code",
   "execution_count": 65,
   "id": "4245f431",
   "metadata": {},
   "outputs": [
    {
     "data": {
      "text/plain": [
       "array([[67, 93, 99, 18, 84],\n",
       "       [58, 87, 98, 97, 48],\n",
       "       [74, 33, 47, 97, 26],\n",
       "       [84, 79, 37, 97, 81],\n",
       "       [69, 50, 56, 68,  3]])"
      ]
     },
     "execution_count": 65,
     "metadata": {},
     "output_type": "execute_result"
    }
   ],
   "source": [
    "np.random.seed(123)\n",
    "matrix2 = np.random.randint(1,101,25).reshape(5,5)\n",
    "matrix2"
   ]
  },
  {
   "cell_type": "code",
   "execution_count": 66,
   "id": "0710449c",
   "metadata": {},
   "outputs": [
    {
     "data": {
      "text/plain": [
       "array([[87, 98, 97],\n",
       "       [33, 47, 97],\n",
       "       [79, 37, 97]])"
      ]
     },
     "execution_count": 66,
     "metadata": {},
     "output_type": "execute_result"
    }
   ],
   "source": [
    "matrix2[1:4,1:4]"
   ]
  },
  {
   "cell_type": "code",
   "execution_count": 68,
   "id": "51afa045",
   "metadata": {},
   "outputs": [
    {
     "data": {
      "text/plain": [
       "array([[99, 18, 84],\n",
       "       [98, 97, 48],\n",
       "       [47, 97, 26]])"
      ]
     },
     "execution_count": 68,
     "metadata": {},
     "output_type": "execute_result"
    }
   ],
   "source": [
    "matrix2[:3,2:]"
   ]
  },
  {
   "cell_type": "markdown",
   "id": "6f9e1bfb",
   "metadata": {},
   "source": [
    "## View Vs Copy"
   ]
  },
  {
   "cell_type": "code",
   "execution_count": 86,
   "id": "5cfed7fd",
   "metadata": {},
   "outputs": [
    {
     "data": {
      "text/plain": [
       "array([4, 5, 6, 7, 8, 7])"
      ]
     },
     "execution_count": 86,
     "metadata": {},
     "output_type": "execute_result"
    }
   ],
   "source": [
    "arr = np.array([4,5,6,7,8,7])\n",
    "arr"
   ]
  },
  {
   "cell_type": "code",
   "execution_count": 87,
   "id": "8476f122",
   "metadata": {},
   "outputs": [],
   "source": [
    "Sliced_arr = arr[2:5].copy()"
   ]
  },
  {
   "cell_type": "code",
   "execution_count": 88,
   "id": "e83222e9",
   "metadata": {},
   "outputs": [
    {
     "data": {
      "text/plain": [
       "array([6, 7, 8])"
      ]
     },
     "execution_count": 88,
     "metadata": {},
     "output_type": "execute_result"
    }
   ],
   "source": [
    "Sliced_arr"
   ]
  },
  {
   "cell_type": "code",
   "execution_count": 89,
   "id": "2846dd99",
   "metadata": {},
   "outputs": [],
   "source": [
    "Sliced_arr[:] = 0"
   ]
  },
  {
   "cell_type": "code",
   "execution_count": 90,
   "id": "f932fbd3",
   "metadata": {},
   "outputs": [
    {
     "data": {
      "text/plain": [
       "array([0, 0, 0])"
      ]
     },
     "execution_count": 90,
     "metadata": {},
     "output_type": "execute_result"
    }
   ],
   "source": [
    "Sliced_arr"
   ]
  },
  {
   "cell_type": "code",
   "execution_count": 91,
   "id": "8aab006a",
   "metadata": {},
   "outputs": [
    {
     "data": {
      "text/plain": [
       "array([4, 5, 6, 7, 8, 7])"
      ]
     },
     "execution_count": 91,
     "metadata": {},
     "output_type": "execute_result"
    }
   ],
   "source": [
    "arr"
   ]
  },
  {
   "cell_type": "markdown",
   "id": "8b65457f",
   "metadata": {},
   "source": [
    "### Conditonal Selection"
   ]
  },
  {
   "cell_type": "code",
   "execution_count": 93,
   "id": "1e4da1fd",
   "metadata": {},
   "outputs": [],
   "source": [
    "arr = np.arange(1,11)"
   ]
  },
  {
   "cell_type": "code",
   "execution_count": 94,
   "id": "6b476fbb",
   "metadata": {},
   "outputs": [
    {
     "data": {
      "text/plain": [
       "array([ 1,  2,  3,  4,  5,  6,  7,  8,  9, 10])"
      ]
     },
     "execution_count": 94,
     "metadata": {},
     "output_type": "execute_result"
    }
   ],
   "source": [
    "arr"
   ]
  },
  {
   "cell_type": "code",
   "execution_count": 98,
   "id": "6f868180",
   "metadata": {},
   "outputs": [],
   "source": [
    "dot =  arr>5"
   ]
  },
  {
   "cell_type": "code",
   "execution_count": 100,
   "id": "d1085d60",
   "metadata": {},
   "outputs": [
    {
     "data": {
      "text/plain": [
       "array([ 6,  7,  8,  9, 10])"
      ]
     },
     "execution_count": 100,
     "metadata": {},
     "output_type": "execute_result"
    }
   ],
   "source": [
    "arr[dot]"
   ]
  },
  {
   "cell_type": "code",
   "execution_count": 103,
   "id": "1af163c3",
   "metadata": {},
   "outputs": [],
   "source": [
    "sot=arr%2==0"
   ]
  },
  {
   "cell_type": "code",
   "execution_count": 105,
   "id": "ee221f3f",
   "metadata": {},
   "outputs": [
    {
     "data": {
      "text/plain": [
       "array([ 2,  4,  6,  8, 10])"
      ]
     },
     "execution_count": 105,
     "metadata": {},
     "output_type": "execute_result"
    }
   ],
   "source": [
    "arr[sot]"
   ]
  },
  {
   "cell_type": "markdown",
   "id": "af9df170",
   "metadata": {},
   "source": [
    "### Numpy Operation With Scaler"
   ]
  },
  {
   "cell_type": "code",
   "execution_count": 109,
   "id": "071c8793",
   "metadata": {},
   "outputs": [],
   "source": [
    "arr = np.array([1,2,3,4]).reshape(2,2)"
   ]
  },
  {
   "cell_type": "code",
   "execution_count": 110,
   "id": "1491c29b",
   "metadata": {},
   "outputs": [
    {
     "data": {
      "text/plain": [
       "array([[ 1,  4],\n",
       "       [ 9, 16]], dtype=int32)"
      ]
     },
     "execution_count": 110,
     "metadata": {},
     "output_type": "execute_result"
    }
   ],
   "source": [
    "arr**2"
   ]
  },
  {
   "cell_type": "code",
   "execution_count": 111,
   "id": "9c0098cd",
   "metadata": {},
   "outputs": [
    {
     "data": {
      "text/plain": [
       "array([[4, 5],\n",
       "       [6, 7]])"
      ]
     },
     "execution_count": 111,
     "metadata": {},
     "output_type": "execute_result"
    }
   ],
   "source": [
    "arr+3"
   ]
  },
  {
   "cell_type": "code",
   "execution_count": 112,
   "id": "331aebcf",
   "metadata": {},
   "outputs": [
    {
     "data": {
      "text/plain": [
       "array([[-1,  0],\n",
       "       [ 1,  2]])"
      ]
     },
     "execution_count": 112,
     "metadata": {},
     "output_type": "execute_result"
    }
   ],
   "source": [
    "arr-2\n"
   ]
  },
  {
   "cell_type": "code",
   "execution_count": 113,
   "id": "a0b222b9",
   "metadata": {},
   "outputs": [
    {
     "name": "stderr",
     "output_type": "stream",
     "text": [
      "C:\\Users\\Omkar\\AppData\\Local\\Temp/ipykernel_15464/4291252909.py:1: RuntimeWarning: divide by zero encountered in true_divide\n",
      "  arr/0\n"
     ]
    },
    {
     "data": {
      "text/plain": [
       "array([[inf, inf],\n",
       "       [inf, inf]])"
      ]
     },
     "execution_count": 113,
     "metadata": {},
     "output_type": "execute_result"
    }
   ],
   "source": [
    "arr/0"
   ]
  },
  {
   "cell_type": "markdown",
   "id": "a21da436",
   "metadata": {},
   "source": [
    "### Operation On two or More Array"
   ]
  },
  {
   "cell_type": "code",
   "execution_count": 114,
   "id": "25c197d6",
   "metadata": {},
   "outputs": [],
   "source": [
    "import numpy as np"
   ]
  },
  {
   "cell_type": "code",
   "execution_count": 126,
   "id": "24b5fa40",
   "metadata": {},
   "outputs": [],
   "source": [
    "arr1 = np.array([1,2,3,4])\n",
    "arr2 = np.array([5,6,7,8])"
   ]
  },
  {
   "cell_type": "code",
   "execution_count": 127,
   "id": "1ac61b3c",
   "metadata": {},
   "outputs": [
    {
     "data": {
      "text/plain": [
       "array([ 6,  8, 10, 12])"
      ]
     },
     "execution_count": 127,
     "metadata": {},
     "output_type": "execute_result"
    }
   ],
   "source": [
    "arr1+arr2"
   ]
  },
  {
   "cell_type": "code",
   "execution_count": 128,
   "id": "f5d7fc95",
   "metadata": {},
   "outputs": [
    {
     "data": {
      "text/plain": [
       "array([ 1,  4,  9, 16])"
      ]
     },
     "execution_count": 128,
     "metadata": {},
     "output_type": "execute_result"
    }
   ],
   "source": [
    "arr1*arr1"
   ]
  },
  {
   "cell_type": "code",
   "execution_count": 129,
   "id": "1e61b7f3",
   "metadata": {},
   "outputs": [],
   "source": [
    "arr1 = np.array([1,2,3,4]).reshape(2,2)\n",
    "arr2 = np.array([5,6,7,8]).reshape(2,2)"
   ]
  },
  {
   "cell_type": "code",
   "execution_count": 130,
   "id": "5ef39e9e",
   "metadata": {},
   "outputs": [
    {
     "data": {
      "text/plain": [
       "array([[ 6,  8],\n",
       "       [10, 12]])"
      ]
     },
     "execution_count": 130,
     "metadata": {},
     "output_type": "execute_result"
    }
   ],
   "source": [
    "arr1+arr2"
   ]
  },
  {
   "cell_type": "code",
   "execution_count": 138,
   "id": "15532dd2",
   "metadata": {},
   "outputs": [],
   "source": [
    "arr3 = np.arange(1,11).reshape(5,2)"
   ]
  },
  {
   "cell_type": "code",
   "execution_count": 139,
   "id": "63768e07",
   "metadata": {},
   "outputs": [
    {
     "data": {
      "text/plain": [
       "array([[ 1,  2],\n",
       "       [ 3,  4],\n",
       "       [ 5,  6],\n",
       "       [ 7,  8],\n",
       "       [ 9, 10]])"
      ]
     },
     "execution_count": 139,
     "metadata": {},
     "output_type": "execute_result"
    }
   ],
   "source": [
    "arr3"
   ]
  },
  {
   "cell_type": "markdown",
   "id": "c6037df6",
   "metadata": {},
   "source": [
    "### Some More Functions Numpy"
   ]
  },
  {
   "cell_type": "code",
   "execution_count": 141,
   "id": "cbebf3fa",
   "metadata": {},
   "outputs": [],
   "source": [
    "import numpy as np\n",
    "arr4 = np.array([1,2,3,4])"
   ]
  },
  {
   "cell_type": "code",
   "execution_count": 142,
   "id": "20c2afa3",
   "metadata": {},
   "outputs": [
    {
     "data": {
      "text/plain": [
       "1"
      ]
     },
     "execution_count": 142,
     "metadata": {},
     "output_type": "execute_result"
    }
   ],
   "source": [
    "np.min(arr4)"
   ]
  },
  {
   "cell_type": "code",
   "execution_count": 143,
   "id": "af9f896c",
   "metadata": {},
   "outputs": [
    {
     "data": {
      "text/plain": [
       "4"
      ]
     },
     "execution_count": 143,
     "metadata": {},
     "output_type": "execute_result"
    }
   ],
   "source": [
    "np.max(arr4)"
   ]
  },
  {
   "cell_type": "code",
   "execution_count": 144,
   "id": "d96bf942",
   "metadata": {},
   "outputs": [
    {
     "data": {
      "text/plain": [
       "0"
      ]
     },
     "execution_count": 144,
     "metadata": {},
     "output_type": "execute_result"
    }
   ],
   "source": [
    "np.argmin(arr4) #Give the position of minimum Number"
   ]
  },
  {
   "cell_type": "code",
   "execution_count": 145,
   "id": "3bf9127d",
   "metadata": {},
   "outputs": [
    {
     "data": {
      "text/plain": [
       "3"
      ]
     },
     "execution_count": 145,
     "metadata": {},
     "output_type": "execute_result"
    }
   ],
   "source": [
    "np.argmax(arr4) #Give the position of maximum Number"
   ]
  },
  {
   "cell_type": "code",
   "execution_count": 1,
   "id": "6725cb66",
   "metadata": {},
   "outputs": [
    {
     "data": {
      "text/plain": [
       "array([ 1. ,  4.5,  8. , 11.5, 15. ])"
      ]
     },
     "execution_count": 1,
     "metadata": {},
     "output_type": "execute_result"
    }
   ],
   "source": [
    "np.linspace(1,15,5)"
   ]
  },
  {
   "cell_type": "code",
   "execution_count": 147,
   "id": "6acda760",
   "metadata": {},
   "outputs": [],
   "source": [
    "arr_s = np.array([1,2,3,4],dtype=\"bool\")"
   ]
  },
  {
   "cell_type": "code",
   "execution_count": 148,
   "id": "0e3099e6",
   "metadata": {},
   "outputs": [
    {
     "data": {
      "text/plain": [
       "array([ True,  True,  True,  True])"
      ]
     },
     "execution_count": 148,
     "metadata": {},
     "output_type": "execute_result"
    }
   ],
   "source": [
    "arr_s"
   ]
  },
  {
   "cell_type": "markdown",
   "id": "3abc867c",
   "metadata": {},
   "source": [
    "### Numpy Axis"
   ]
  },
  {
   "cell_type": "code",
   "execution_count": 3,
   "id": "4c10decc",
   "metadata": {},
   "outputs": [
    {
     "data": {
      "text/plain": [
       "array([[14,  3,  3],\n",
       "       [ 7, 18, 11],\n",
       "       [ 2,  1, 18]])"
      ]
     },
     "execution_count": 3,
     "metadata": {},
     "output_type": "execute_result"
    }
   ],
   "source": [
    "np.random.seed(123)\n",
    "arr = np.random.randint(1,20,9).reshape(3,3)\n",
    "arr"
   ]
  },
  {
   "cell_type": "code",
   "execution_count": 5,
   "id": "32f8ab54",
   "metadata": {},
   "outputs": [
    {
     "data": {
      "text/plain": [
       "array([2, 1, 3])"
      ]
     },
     "execution_count": 5,
     "metadata": {},
     "output_type": "execute_result"
    }
   ],
   "source": [
    "#Row = 1 And Column = 0 for Axis \n",
    "np.min(arr,axis=0)"
   ]
  },
  {
   "cell_type": "code",
   "execution_count": 6,
   "id": "f503d760",
   "metadata": {},
   "outputs": [
    {
     "data": {
      "text/plain": [
       "array([20, 36, 21])"
      ]
     },
     "execution_count": 6,
     "metadata": {},
     "output_type": "execute_result"
    }
   ],
   "source": [
    "np.sum(arr,axis=1)"
   ]
  },
  {
   "cell_type": "code",
   "execution_count": 7,
   "id": "00f631a0",
   "metadata": {},
   "outputs": [
    {
     "data": {
      "text/plain": [
       "array([[14, 17, 20],\n",
       "       [ 7, 25, 36],\n",
       "       [ 2,  3, 21]], dtype=int32)"
      ]
     },
     "execution_count": 7,
     "metadata": {},
     "output_type": "execute_result"
    }
   ],
   "source": [
    "np.cumsum(arr,axis=1)"
   ]
  },
  {
   "cell_type": "markdown",
   "id": "85b5d69e",
   "metadata": {},
   "source": [
    "### Shuffe and Unique Key"
   ]
  },
  {
   "cell_type": "code",
   "execution_count": 8,
   "id": "4e4718fb",
   "metadata": {},
   "outputs": [
    {
     "data": {
      "text/plain": [
       "array([14,  3, 13,  3,  7,  2,  4, 11, 12, 10,  7,  2,  1,  2, 10])"
      ]
     },
     "execution_count": 8,
     "metadata": {},
     "output_type": "execute_result"
    }
   ],
   "source": [
    "np.random.seed(123)\n",
    "arr = np.random.randint(1,15,15)\n",
    "arr"
   ]
  },
  {
   "cell_type": "code",
   "execution_count": 11,
   "id": "f47d266d",
   "metadata": {},
   "outputs": [],
   "source": [
    "np.random.shuffle(arr)\n"
   ]
  },
  {
   "cell_type": "code",
   "execution_count": 12,
   "id": "9a48aa68",
   "metadata": {},
   "outputs": [
    {
     "data": {
      "text/plain": [
       "array([ 1,  4, 10,  3, 10,  7, 12,  7,  2,  3, 14,  2,  2, 11, 13])"
      ]
     },
     "execution_count": 12,
     "metadata": {},
     "output_type": "execute_result"
    }
   ],
   "source": [
    "arr"
   ]
  },
  {
   "cell_type": "code",
   "execution_count": 13,
   "id": "2febd7f7",
   "metadata": {},
   "outputs": [
    {
     "data": {
      "text/plain": [
       "array([ 1,  2,  3,  4,  7, 10, 11, 12, 13, 14])"
      ]
     },
     "execution_count": 13,
     "metadata": {},
     "output_type": "execute_result"
    }
   ],
   "source": [
    "np.unique(arr)"
   ]
  },
  {
   "cell_type": "code",
   "execution_count": 14,
   "id": "56c83740",
   "metadata": {},
   "outputs": [
    {
     "data": {
      "text/plain": [
       "10"
      ]
     },
     "execution_count": 14,
     "metadata": {},
     "output_type": "execute_result"
    }
   ],
   "source": [
    "np.unique(arr).size"
   ]
  },
  {
   "cell_type": "code",
   "execution_count": 15,
   "id": "0c35cd76",
   "metadata": {},
   "outputs": [
    {
     "data": {
      "text/plain": [
       "(array([ 1,  2,  3,  4,  7, 10, 11, 12, 13, 14]),\n",
       " array([ 0,  8,  3,  1,  5,  2, 13,  6, 14, 10], dtype=int64),\n",
       " array([1, 3, 2, 1, 2, 2, 1, 1, 1, 1], dtype=int64))"
      ]
     },
     "execution_count": 15,
     "metadata": {},
     "output_type": "execute_result"
    }
   ],
   "source": [
    "np.unique(arr,return_index=True,return_counts=True)"
   ]
  },
  {
   "cell_type": "markdown",
   "id": "0e92c3c7",
   "metadata": {},
   "source": [
    "### Horizontal And Vertical Stacking"
   ]
  },
  {
   "cell_type": "code",
   "execution_count": 1,
   "id": "87c04756",
   "metadata": {},
   "outputs": [],
   "source": [
    "np.random.seed(123)\n",
    "matrix1 = np.random.randint(1,20,9).reshape(3,3)\n",
    "matrix2 = np.random.randint(20,40,9).reshape(3,3)"
   ]
  },
  {
   "cell_type": "code",
   "execution_count": 2,
   "id": "4e70d4fe",
   "metadata": {},
   "outputs": [
    {
     "data": {
      "text/plain": [
       "array([[14,  3,  3],\n",
       "       [ 7, 18, 11],\n",
       "       [ 2,  1, 18]])"
      ]
     },
     "execution_count": 2,
     "metadata": {},
     "output_type": "execute_result"
    }
   ],
   "source": [
    "matrix1"
   ]
  },
  {
   "cell_type": "code",
   "execution_count": 3,
   "id": "95254557",
   "metadata": {},
   "outputs": [
    {
     "data": {
      "text/plain": [
       "array([[35, 29, 20],\n",
       "       [34, 20, 35],\n",
       "       [39, 34, 24]])"
      ]
     },
     "execution_count": 3,
     "metadata": {},
     "output_type": "execute_result"
    }
   ],
   "source": [
    "matrix2 "
   ]
  },
  {
   "cell_type": "code",
   "execution_count": 4,
   "id": "5ad0a6a7",
   "metadata": {},
   "outputs": [
    {
     "data": {
      "text/plain": [
       "array([[14,  3,  3, 35, 29, 20],\n",
       "       [ 7, 18, 11, 34, 20, 35],\n",
       "       [ 2,  1, 18, 39, 34, 24]])"
      ]
     },
     "execution_count": 4,
     "metadata": {},
     "output_type": "execute_result"
    }
   ],
   "source": [
    "# Horizontal Stacking\n",
    "np.hstack((matrix1,matrix2))"
   ]
  },
  {
   "cell_type": "code",
   "execution_count": 5,
   "id": "3b34fe93",
   "metadata": {},
   "outputs": [
    {
     "data": {
      "text/plain": [
       "array([[14,  3,  3],\n",
       "       [ 7, 18, 11],\n",
       "       [ 2,  1, 18],\n",
       "       [35, 29, 20],\n",
       "       [34, 20, 35],\n",
       "       [39, 34, 24]])"
      ]
     },
     "execution_count": 5,
     "metadata": {},
     "output_type": "execute_result"
    }
   ],
   "source": [
    "# Vertical Stacking\n",
    "np.vstack((matrix1,matrix2))"
   ]
  },
  {
   "cell_type": "code",
   "execution_count": 6,
   "id": "5b37de4d",
   "metadata": {},
   "outputs": [],
   "source": [
    "arr1 = np.array([1,2,3])\n",
    "arr2 = np.array([4,5,6])"
   ]
  },
  {
   "cell_type": "code",
   "execution_count": 8,
   "id": "325a038c",
   "metadata": {},
   "outputs": [
    {
     "data": {
      "text/plain": [
       "array([1, 2, 3, 4, 5, 6])"
      ]
     },
     "execution_count": 8,
     "metadata": {},
     "output_type": "execute_result"
    }
   ],
   "source": [
    "np.hstack((arr1,arr2))"
   ]
  },
  {
   "cell_type": "code",
   "execution_count": 9,
   "id": "f6525bb9",
   "metadata": {},
   "outputs": [
    {
     "data": {
      "text/plain": [
       "array([[1, 2, 3],\n",
       "       [4, 5, 6]])"
      ]
     },
     "execution_count": 9,
     "metadata": {},
     "output_type": "execute_result"
    }
   ],
   "source": [
    "np.vstack((arr1,arr2))"
   ]
  },
  {
   "cell_type": "markdown",
   "id": "a21be28d",
   "metadata": {},
   "source": [
    "### Numpy Array Vs Python list"
   ]
  },
  {
   "cell_type": "code",
   "execution_count": 1,
   "id": "9514d5d6",
   "metadata": {},
   "outputs": [
    {
     "name": "stdout",
     "output_type": "stream",
     "text": [
      "18.3 ns ± 0.725 ns per loop (mean ± std. dev. of 7 runs, 100000000 loops each)\n"
     ]
    }
   ],
   "source": [
    "%timeit 2+3"
   ]
  },
  {
   "cell_type": "code",
   "execution_count": 10,
   "id": "78989c84",
   "metadata": {},
   "outputs": [
    {
     "name": "stdout",
     "output_type": "stream",
     "text": [
      "5.37 µs ± 72.5 ns per loop (mean ± std. dev. of 7 runs, 100000 loops each)\n"
     ]
    }
   ],
   "source": [
    "%timeit [i**2 for i in range(1,11)]"
   ]
  },
  {
   "cell_type": "code",
   "execution_count": 7,
   "id": "cde50b0f",
   "metadata": {},
   "outputs": [
    {
     "name": "stdout",
     "output_type": "stream",
     "text": [
      "1.97 µs ± 2.77 ns per loop (mean ± std. dev. of 7 runs, 1000000 loops each)\n"
     ]
    }
   ],
   "source": [
    "%%timeit\n",
    "l =[]\n",
    "for i in range(1,4):\n",
    "    l.append(i**2)\n"
   ]
  },
  {
   "cell_type": "code",
   "execution_count": 11,
   "id": "c5fd82b1",
   "metadata": {},
   "outputs": [
    {
     "name": "stdout",
     "output_type": "stream",
     "text": [
      "2.79 µs ± 40.6 ns per loop (mean ± std. dev. of 7 runs, 100000 loops each)\n"
     ]
    }
   ],
   "source": [
    "%timeit np.arange(1,11)**2"
   ]
  },
  {
   "cell_type": "code",
   "execution_count": null,
   "id": "b056b460",
   "metadata": {},
   "outputs": [],
   "source": []
  }
 ],
 "metadata": {
  "kernelspec": {
   "display_name": "Python 3 (ipykernel)",
   "language": "python",
   "name": "python3"
  },
  "language_info": {
   "codemirror_mode": {
    "name": "ipython",
    "version": 3
   },
   "file_extension": ".py",
   "mimetype": "text/x-python",
   "name": "python",
   "nbconvert_exporter": "python",
   "pygments_lexer": "ipython3",
   "version": "3.9.0"
  },
  "varInspector": {
   "cols": {
    "lenName": 16,
    "lenType": 16,
    "lenVar": 40
   },
   "kernels_config": {
    "python": {
     "delete_cmd_postfix": "",
     "delete_cmd_prefix": "del ",
     "library": "var_list.py",
     "varRefreshCmd": "print(var_dic_list())"
    },
    "r": {
     "delete_cmd_postfix": ") ",
     "delete_cmd_prefix": "rm(",
     "library": "var_list.r",
     "varRefreshCmd": "cat(var_dic_list()) "
    }
   },
   "types_to_exclude": [
    "module",
    "function",
    "builtin_function_or_method",
    "instance",
    "_Feature"
   ],
   "window_display": false
  }
 },
 "nbformat": 4,
 "nbformat_minor": 5
}
